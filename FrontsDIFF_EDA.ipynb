{
 "cells": [
  {
   "cell_type": "code",
   "execution_count": 1,
   "id": "9908d0e8-fa50-4d0a-989a-6d3f188bc55e",
   "metadata": {},
   "outputs": [],
   "source": [
    "###########################################################\n",
    "#EDA for Calving fronts centerline difference calculations#\n",
    "#Maintainer: Christopher Chan                             #\n",
    "#Date: 2022-07-03                                         #\n",
    "#Version: 0.1.2                                           #\n",
    "###########################################################\n",
    "\n",
    "import os, sys, re\n",
    "import pandas as pd\n",
    "import matplotlib.pyplot as plt\n",
    "import seaborn as sns\n",
    "import datetime\n",
    "\n",
    "csv_dir = os.path.join(os.getcwd(), \"Cfronts_line\", \"diff_csv\")"
   ]
  },
  {
   "cell_type": "code",
   "execution_count": 2,
   "id": "398d16e3-5acd-4085-afe8-f5d7eb85ee3f",
   "metadata": {},
   "outputs": [
    {
     "name": "stdout",
     "output_type": "stream",
     "text": [
      "dict_keys(['diff_centrelineGetz', 'diff_centrelineThwaites', 'diff_centrelineLand', 'diff_centrelineForbes', 'diff_centrelineNeny', 'diff_centrelineMcmorrin', 'diff_centrelineMardovol'])\n"
     ]
    }
   ],
   "source": [
    "# pd.read_csv file list into a dictionary\n",
    "\n",
    "csv = dict()\n",
    "\n",
    "for root, dirs, path in os.walk(csv_dir):\n",
    "    for i in path:\n",
    "        csv[os.path.splitext(i)[0]] = pd.read_csv(root + \"/\" + i)\n",
    "        \n",
    "# Convert dictionary into global variables\n",
    "locals().update(csv)\n",
    "\n",
    "print(csv.keys())"
   ]
  },
  {
   "cell_type": "markdown",
   "id": "186ab3a5-202b-47b6-b1a7-b582761a474c",
   "metadata": {
    "tags": []
   },
   "source": [
    "## SAR based calving fronts"
   ]
  },
  {
   "cell_type": "code",
   "execution_count": 3,
   "id": "02c80248-a517-4485-84bb-c5761837dffd",
   "metadata": {
    "tags": []
   },
   "outputs": [
    {
     "data": {
      "text/html": [
       "<div>\n",
       "<style scoped>\n",
       "    .dataframe tbody tr th:only-of-type {\n",
       "        vertical-align: middle;\n",
       "    }\n",
       "\n",
       "    .dataframe tbody tr th {\n",
       "        vertical-align: top;\n",
       "    }\n",
       "\n",
       "    .dataframe thead th {\n",
       "        text-align: right;\n",
       "    }\n",
       "</style>\n",
       "<table border=\"1\" class=\"dataframe\">\n",
       "  <thead>\n",
       "    <tr style=\"text-align: right;\">\n",
       "      <th></th>\n",
       "      <th>centerline1</th>\n",
       "      <th>centerline2</th>\n",
       "      <th>centerline3</th>\n",
       "      <th>centerline4</th>\n",
       "      <th>centerline5</th>\n",
       "      <th>centerline6</th>\n",
       "      <th>centerline7</th>\n",
       "      <th>centerline8</th>\n",
       "      <th>centerline9</th>\n",
       "      <th>centerline10</th>\n",
       "      <th>centerline11</th>\n",
       "      <th>centerline12</th>\n",
       "      <th>centerline13</th>\n",
       "      <th>centerline14</th>\n",
       "      <th>centerline15</th>\n",
       "      <th>centerline16</th>\n",
       "      <th>centerline17</th>\n",
       "    </tr>\n",
       "  </thead>\n",
       "  <tbody>\n",
       "    <tr>\n",
       "      <th>1</th>\n",
       "      <td>112.101500</td>\n",
       "      <td>14.205176</td>\n",
       "      <td>-55.608530</td>\n",
       "      <td>-48.369117</td>\n",
       "      <td>-76.158706</td>\n",
       "      <td>58.697155</td>\n",
       "      <td>-1515.430509</td>\n",
       "      <td>-2357.910462</td>\n",
       "      <td>-2314.587064</td>\n",
       "      <td>-576.535977</td>\n",
       "      <td>105.909890</td>\n",
       "      <td>4.312284</td>\n",
       "      <td>89.178400</td>\n",
       "      <td>75.762492</td>\n",
       "      <td>100.784479</td>\n",
       "      <td>-448.428764</td>\n",
       "      <td>-7741.664697</td>\n",
       "    </tr>\n",
       "    <tr>\n",
       "      <th>2</th>\n",
       "      <td>256.465706</td>\n",
       "      <td>-76.019163</td>\n",
       "      <td>108.057159</td>\n",
       "      <td>-200.586986</td>\n",
       "      <td>-137.720343</td>\n",
       "      <td>-23.981978</td>\n",
       "      <td>-1465.248725</td>\n",
       "      <td>-2214.181156</td>\n",
       "      <td>-2216.573947</td>\n",
       "      <td>-614.002983</td>\n",
       "      <td>178.217068</td>\n",
       "      <td>104.987655</td>\n",
       "      <td>201.277294</td>\n",
       "      <td>183.681181</td>\n",
       "      <td>167.338099</td>\n",
       "      <td>-421.527459</td>\n",
       "      <td>-7717.183598</td>\n",
       "    </tr>\n",
       "  </tbody>\n",
       "</table>\n",
       "</div>"
      ],
      "text/plain": [
       "   centerline1  centerline2  centerline3  centerline4  centerline5  \\\n",
       "1   112.101500    14.205176   -55.608530   -48.369117   -76.158706   \n",
       "2   256.465706   -76.019163   108.057159  -200.586986  -137.720343   \n",
       "\n",
       "   centerline6  centerline7  centerline8  centerline9  centerline10  \\\n",
       "1    58.697155 -1515.430509 -2357.910462 -2314.587064   -576.535977   \n",
       "2   -23.981978 -1465.248725 -2214.181156 -2216.573947   -614.002983   \n",
       "\n",
       "   centerline11  centerline12  centerline13  centerline14  centerline15  \\\n",
       "1    105.909890      4.312284     89.178400     75.762492    100.784479   \n",
       "2    178.217068    104.987655    201.277294    183.681181    167.338099   \n",
       "\n",
       "   centerline16  centerline17  \n",
       "1   -448.428764  -7741.664697  \n",
       "2   -421.527459  -7717.183598  "
      ]
     },
     "execution_count": 3,
     "metadata": {},
     "output_type": "execute_result"
    }
   ],
   "source": [
    "diff_centrelineGetz = diff_centrelineGetz.drop(diff_centrelineGetz.columns[[0, 1, 2]], axis = 1)\n",
    "diff_centrelineGetz = diff_centrelineGetz.drop(diff_centrelineGetz.index[0], axis = 0)\n",
    "GetzSTATS_df = diff_centrelineGetz.melt()\n",
    "GetzSTATS_df.head()\n",
    "\n",
    "diff_centrelineGetz"
   ]
  },
  {
   "cell_type": "code",
   "execution_count": 4,
   "id": "f65bb7ec-9ed4-4ea7-a76c-b6fbb808e5ae",
   "metadata": {},
   "outputs": [
    {
     "data": {
      "image/png": "[encoded data removed]",
      "text/plain": [
       "<Figure size 432x288 with 1 Axes>"
      ]
     },
     "metadata": {
      "needs_background": "light"
     },
     "output_type": "display_data"
    }
   ],
   "source": [
    "sns.set_theme(style=\"whitegrid\")\n",
    "\n",
    "sns.boxplot(data = GetzSTATS_df, x = \"variable\", y = \"value\").set(xlabel = None, ylabel = \"Difference (m)\", title = \"Getz\")\n",
    "plt.xticks(rotation = 30, horizontalalignment = \"right\")\n",
    "\n",
    "# show the graph\n",
    "plt.show()\n",
    "# Finalize the figure"
   ]
  },
  {
   "cell_type": "code",
   "execution_count": 5,
   "id": "931e3afd-e2ca-4d65-ab75-8a59b0aeef3a",
   "metadata": {
    "tags": []
   },
   "outputs": [
    {
     "data": {
      "text/html": [
       "<div>\n",
       "<style scoped>\n",
       "    .dataframe tbody tr th:only-of-type {\n",
       "        vertical-align: middle;\n",
       "    }\n",
       "\n",
       "    .dataframe tbody tr th {\n",
       "        vertical-align: top;\n",
       "    }\n",
       "\n",
       "    .dataframe thead th {\n",
       "        text-align: right;\n",
       "    }\n",
       "</style>\n",
       "<table border=\"1\" class=\"dataframe\">\n",
       "  <thead>\n",
       "    <tr style=\"text-align: right;\">\n",
       "      <th></th>\n",
       "      <th>centerline1</th>\n",
       "      <th>centerline2</th>\n",
       "      <th>centerline3</th>\n",
       "      <th>centerline4</th>\n",
       "      <th>centerline5</th>\n",
       "      <th>centerline6</th>\n",
       "      <th>centerline7</th>\n",
       "    </tr>\n",
       "  </thead>\n",
       "  <tbody>\n",
       "  </tbody>\n",
       "</table>\n",
       "</div>"
      ],
      "text/plain": [
       "Empty DataFrame\n",
       "Columns: [centerline1, centerline2, centerline3, centerline4, centerline5, centerline6, centerline7]\n",
       "Index: []"
      ]
     },
     "execution_count": 5,
     "metadata": {},
     "output_type": "execute_result"
    }
   ],
   "source": [
    "diff_centrelineLand = diff_centrelineLand.drop(diff_centrelineLand.columns[[0, 1, 2]], axis = 1)\n",
    "diff_centrelineLand = diff_centrelineLand.drop(diff_centrelineLand.index[0], axis = 0)\n",
    "LandSTATS_df = diff_centrelineLand.melt()\n",
    "LandSTATS_df.head() \n",
    "\n",
    "diff_centrelineLand"
   ]
  },
  {
   "cell_type": "code",
   "execution_count": 6,
   "id": "d93e33c1-63b1-4209-9e1c-6b800a658094",
   "metadata": {},
   "outputs": [
    {
     "data": {
      "text/html": [
       "<div>\n",
       "<style scoped>\n",
       "    .dataframe tbody tr th:only-of-type {\n",
       "        vertical-align: middle;\n",
       "    }\n",
       "\n",
       "    .dataframe tbody tr th {\n",
       "        vertical-align: top;\n",
       "    }\n",
       "\n",
       "    .dataframe thead th {\n",
       "        text-align: right;\n",
       "    }\n",
       "</style>\n",
       "<table border=\"1\" class=\"dataframe\">\n",
       "  <thead>\n",
       "    <tr style=\"text-align: right;\">\n",
       "      <th></th>\n",
       "      <th>centerline1</th>\n",
       "      <th>centerline2</th>\n",
       "      <th>centerline3</th>\n",
       "      <th>centerline4</th>\n",
       "      <th>centerline5</th>\n",
       "      <th>centerline6</th>\n",
       "      <th>centerline7</th>\n",
       "      <th>centerline8</th>\n",
       "      <th>centerline9</th>\n",
       "      <th>centerline10</th>\n",
       "      <th>centerline11</th>\n",
       "      <th>centerline12</th>\n",
       "      <th>centerline13</th>\n",
       "      <th>centerline14</th>\n",
       "      <th>centerline15</th>\n",
       "    </tr>\n",
       "  </thead>\n",
       "  <tbody>\n",
       "    <tr>\n",
       "      <th>1</th>\n",
       "      <td>-173.321380</td>\n",
       "      <td>3427.183414</td>\n",
       "      <td>310.136727</td>\n",
       "      <td>-1207.228750</td>\n",
       "      <td>2499.859015</td>\n",
       "      <td>879.713374</td>\n",
       "      <td>737.962715</td>\n",
       "      <td>3425.676667</td>\n",
       "      <td>887.901807</td>\n",
       "      <td>6393.545555</td>\n",
       "      <td>6627.367397</td>\n",
       "      <td>2437.441327</td>\n",
       "      <td>1053.538505</td>\n",
       "      <td>1295.424529</td>\n",
       "      <td>-332.817769</td>\n",
       "    </tr>\n",
       "    <tr>\n",
       "      <th>2</th>\n",
       "      <td>-165.208052</td>\n",
       "      <td>-7378.260282</td>\n",
       "      <td>551.442038</td>\n",
       "      <td>-869.252495</td>\n",
       "      <td>1618.565662</td>\n",
       "      <td>18782.644064</td>\n",
       "      <td>3884.514848</td>\n",
       "      <td>3311.013895</td>\n",
       "      <td>713.013670</td>\n",
       "      <td>5031.168815</td>\n",
       "      <td>12611.570101</td>\n",
       "      <td>2151.428228</td>\n",
       "      <td>1431.548301</td>\n",
       "      <td>692.163047</td>\n",
       "      <td>-65.790756</td>\n",
       "    </tr>\n",
       "  </tbody>\n",
       "</table>\n",
       "</div>"
      ],
      "text/plain": [
       "   centerline1  centerline2  centerline3  centerline4  centerline5  \\\n",
       "1  -173.321380  3427.183414   310.136727 -1207.228750  2499.859015   \n",
       "2  -165.208052 -7378.260282   551.442038  -869.252495  1618.565662   \n",
       "\n",
       "    centerline6  centerline7  centerline8  centerline9  centerline10  \\\n",
       "1    879.713374   737.962715  3425.676667   887.901807   6393.545555   \n",
       "2  18782.644064  3884.514848  3311.013895   713.013670   5031.168815   \n",
       "\n",
       "   centerline11  centerline12  centerline13  centerline14  centerline15  \n",
       "1   6627.367397   2437.441327   1053.538505   1295.424529   -332.817769  \n",
       "2  12611.570101   2151.428228   1431.548301    692.163047    -65.790756  "
      ]
     },
     "execution_count": 6,
     "metadata": {},
     "output_type": "execute_result"
    }
   ],
   "source": [
    "diff_centrelineThwaites = diff_centrelineThwaites.drop(diff_centrelineThwaites.columns[[0, 1, 2]], axis = 1)\n",
    "diff_centrelineThwaites = diff_centrelineThwaites.drop(diff_centrelineThwaites.index[0], axis = 0)\n",
    "ThwaitesSTATS_df = diff_centrelineThwaites.melt()\n",
    "ThwaitesSTATS_df.head() \n",
    "\n",
    "diff_centrelineThwaites"
   ]
  },
  {
   "cell_type": "code",
   "execution_count": 7,
   "id": "2625c432-78d9-4908-b446-4ef34e4e52c9",
   "metadata": {},
   "outputs": [
    {
     "data": {
      "image/png": "[encoded data removed]",
      "text/plain": [
       "<Figure size 432x288 with 1 Axes>"
      ]
     },
     "metadata": {},
     "output_type": "display_data"
    },
    {
     "data": {
      "text/plain": [
       "<Figure size 432x288 with 0 Axes>"
      ]
     },
     "metadata": {},
     "output_type": "display_data"
    }
   ],
   "source": [
    "sns.set_theme(style=\"whitegrid\")\n",
    "\n",
    "sns.boxplot(data = ThwaitesSTATS_df, x = \"variable\", y = \"value\").set(xlabel = None, ylabel = \"Difference (m)\", title = \"Thwaites\")\n",
    "plt.xticks(rotation = 30, horizontalalignment = \"right\")\n",
    "\n",
    "# show the graph\n",
    "plt.show()\n",
    "# Finalize the figure\n",
    "sns.despine(left = False, bottom = True)"
   ]
  },
  {
   "cell_type": "code",
   "execution_count": 24,
   "id": "97916b1f-6a0a-4136-985b-8a66a8a1e22d",
   "metadata": {},
   "outputs": [
    {
     "data": {
      "text/plain": [
       "16.291895011721596"
      ]
     },
     "execution_count": 24,
     "metadata": {},
     "output_type": "execute_result"
    }
   ],
   "source": [
    "import numpy as np\n",
    "\n",
    "np.mean(diff_centrelineForbes.describe().iloc[2, :])"
   ]
  },
  {
   "cell_type": "markdown",
   "id": "e852e7a5-52e3-46c9-938f-aed6782c5911",
   "metadata": {},
   "source": [
    "## Optical based calving fronts"
   ]
  },
  {
   "cell_type": "code",
   "execution_count": 25,
   "id": "a5642224-a064-4fce-847b-054827bca551",
   "metadata": {
    "tags": []
   },
   "outputs": [
    {
     "data": {
      "text/html": [
       "<div>\n",
       "<style scoped>\n",
       "    .dataframe tbody tr th:only-of-type {\n",
       "        vertical-align: middle;\n",
       "    }\n",
       "\n",
       "    .dataframe tbody tr th {\n",
       "        vertical-align: top;\n",
       "    }\n",
       "\n",
       "    .dataframe thead th {\n",
       "        text-align: right;\n",
       "    }\n",
       "</style>\n",
       "<table border=\"1\" class=\"dataframe\">\n",
       "  <thead>\n",
       "    <tr style=\"text-align: right;\">\n",
       "      <th></th>\n",
       "      <th>centerline1</th>\n",
       "      <th>centerline2</th>\n",
       "      <th>centerline3</th>\n",
       "    </tr>\n",
       "  </thead>\n",
       "  <tbody>\n",
       "    <tr>\n",
       "      <th>1</th>\n",
       "      <td>30.856785</td>\n",
       "      <td>21.390112</td>\n",
       "      <td>24.331742</td>\n",
       "    </tr>\n",
       "    <tr>\n",
       "      <th>2</th>\n",
       "      <td>19.305624</td>\n",
       "      <td>-21.667655</td>\n",
       "      <td>-29.677360</td>\n",
       "    </tr>\n",
       "  </tbody>\n",
       "</table>\n",
       "</div>"
      ],
      "text/plain": [
       "   centerline1  centerline2  centerline3\n",
       "1    30.856785    21.390112    24.331742\n",
       "2    19.305624   -21.667655   -29.677360"
      ]
     },
     "execution_count": 25,
     "metadata": {},
     "output_type": "execute_result"
    }
   ],
   "source": [
    "diff_centrelineForbes = diff_centrelineForbes.drop(diff_centrelineForbes.columns[[0, 1, 2]], axis = 1)\n",
    "diff_centrelineForbes = diff_centrelineForbes.drop(diff_centrelineForbes.index[0], axis = 0)\n",
    "ForbesSTATS_df = diff_centrelineForbes.melt()\n",
    "ForbesSTATS_df.head()\n",
    "\n",
    "diff_centrelineForbes"
   ]
  },
  {
   "cell_type": "code",
   "execution_count": 26,
   "id": "04e04125-f4b5-4668-ad00-20c135ec6579",
   "metadata": {},
   "outputs": [
    {
     "data": {
      "image/png": "[encoded data removed]",
      "text/plain": [
       "<Figure size 432x288 with 1 Axes>"
      ]
     },
     "metadata": {},
     "output_type": "display_data"
    },
    {
     "data": {
      "text/plain": [
       "<Figure size 432x288 with 0 Axes>"
      ]
     },
     "metadata": {},
     "output_type": "display_data"
    }
   ],
   "source": [
    "sns.set_theme(style=\"whitegrid\")\n",
    "\n",
    "sns.boxplot(data = ForbesSTATS_df, x = \"variable\", y = \"value\").set(xlabel = \"\", ylabel = \"Difference (m)\", title = \"Forbes\")\n",
    "plt.xticks(rotation = 30, horizontalalignment = \"right\")\n",
    "\n",
    "# show the graph\n",
    "plt.show()\n",
    "# finalize the figure\n",
    "sns.despine(left = False, bottom = True)"
   ]
  },
  {
   "cell_type": "code",
   "execution_count": 27,
   "id": "ec658b9d-d591-43b2-9dfb-0597bba765f2",
   "metadata": {},
   "outputs": [
    {
     "data": {
      "text/html": [
       "<div>\n",
       "<style scoped>\n",
       "    .dataframe tbody tr th:only-of-type {\n",
       "        vertical-align: middle;\n",
       "    }\n",
       "\n",
       "    .dataframe tbody tr th {\n",
       "        vertical-align: top;\n",
       "    }\n",
       "\n",
       "    .dataframe thead th {\n",
       "        text-align: right;\n",
       "    }\n",
       "</style>\n",
       "<table border=\"1\" class=\"dataframe\">\n",
       "  <thead>\n",
       "    <tr style=\"text-align: right;\">\n",
       "      <th></th>\n",
       "      <th>centerline1</th>\n",
       "      <th>centerline2</th>\n",
       "      <th>centerline3</th>\n",
       "      <th>centerline4</th>\n",
       "    </tr>\n",
       "  </thead>\n",
       "  <tbody>\n",
       "    <tr>\n",
       "      <th>1</th>\n",
       "      <td>26.062888</td>\n",
       "      <td>19.353936</td>\n",
       "      <td>-35.408739</td>\n",
       "      <td>88.158877</td>\n",
       "    </tr>\n",
       "    <tr>\n",
       "      <th>2</th>\n",
       "      <td>-53.338893</td>\n",
       "      <td>-71.417608</td>\n",
       "      <td>-4.756808</td>\n",
       "      <td>129.529264</td>\n",
       "    </tr>\n",
       "    <tr>\n",
       "      <th>3</th>\n",
       "      <td>-35.240866</td>\n",
       "      <td>-66.838818</td>\n",
       "      <td>4.089679</td>\n",
       "      <td>122.603515</td>\n",
       "    </tr>\n",
       "  </tbody>\n",
       "</table>\n",
       "</div>"
      ],
      "text/plain": [
       "   centerline1  centerline2  centerline3  centerline4\n",
       "1    26.062888    19.353936   -35.408739    88.158877\n",
       "2   -53.338893   -71.417608    -4.756808   129.529264\n",
       "3   -35.240866   -66.838818     4.089679   122.603515"
      ]
     },
     "execution_count": 27,
     "metadata": {},
     "output_type": "execute_result"
    }
   ],
   "source": [
    "diff_centrelineMardovol = diff_centrelineMardovol.drop(diff_centrelineMardovol.columns[[0, 1, 2]], axis = 1)\n",
    "diff_centrelineMardovol = diff_centrelineMardovol.drop(diff_centrelineMardovol.index[0], axis = 0)\n",
    "MardovolSTATS_df = diff_centrelineMardovol.melt()\n",
    "MardovolSTATS_df.head()\n",
    "\n",
    "diff_centrelineMardovol"
   ]
  },
  {
   "cell_type": "code",
   "execution_count": 28,
   "id": "7bdf4d22-fe1c-4276-82e1-cfdbf0299ccc",
   "metadata": {},
   "outputs": [
    {
     "data": {
      "image/png": "[encoded data removed]",
      "text/plain": [
       "<Figure size 432x288 with 1 Axes>"
      ]
     },
     "metadata": {},
     "output_type": "display_data"
    },
    {
     "data": {
      "text/plain": [
       "<Figure size 432x288 with 0 Axes>"
      ]
     },
     "metadata": {},
     "output_type": "display_data"
    }
   ],
   "source": [
    "sns.set_theme(style=\"whitegrid\")\n",
    "\n",
    "sns.boxplot(data = MardovolSTATS_df, x = \"variable\", y = \"value\").set(xlabel = \"\", ylabel = \"Difference (m)\", title = \"Mardovol\")\n",
    "plt.xticks(rotation = 30, horizontalalignment = \"right\")\n",
    "\n",
    "# show the graph\n",
    "plt.show()\n",
    "# finalize the figure\n",
    "sns.despine(left = False, bottom = True)"
   ]
  },
  {
   "cell_type": "code",
   "execution_count": 29,
   "id": "01fbcf40-13e1-4541-918b-7643a05da69d",
   "metadata": {},
   "outputs": [
    {
     "data": {
      "text/html": [
       "<div>\n",
       "<style scoped>\n",
       "    .dataframe tbody tr th:only-of-type {\n",
       "        vertical-align: middle;\n",
       "    }\n",
       "\n",
       "    .dataframe tbody tr th {\n",
       "        vertical-align: top;\n",
       "    }\n",
       "\n",
       "    .dataframe thead th {\n",
       "        text-align: right;\n",
       "    }\n",
       "</style>\n",
       "<table border=\"1\" class=\"dataframe\">\n",
       "  <thead>\n",
       "    <tr style=\"text-align: right;\">\n",
       "      <th></th>\n",
       "      <th>centerline1</th>\n",
       "      <th>centerline2</th>\n",
       "      <th>centerline3</th>\n",
       "    </tr>\n",
       "  </thead>\n",
       "  <tbody>\n",
       "    <tr>\n",
       "      <th>1</th>\n",
       "      <td>-644.061247</td>\n",
       "      <td>-593.201073</td>\n",
       "      <td>-762.192398</td>\n",
       "    </tr>\n",
       "    <tr>\n",
       "      <th>2</th>\n",
       "      <td>22.336550</td>\n",
       "      <td>16.774048</td>\n",
       "      <td>-13.317041</td>\n",
       "    </tr>\n",
       "    <tr>\n",
       "      <th>3</th>\n",
       "      <td>21.501762</td>\n",
       "      <td>-1.118225</td>\n",
       "      <td>-25.061152</td>\n",
       "    </tr>\n",
       "  </tbody>\n",
       "</table>\n",
       "</div>"
      ],
      "text/plain": [
       "   centerline1  centerline2  centerline3\n",
       "1  -644.061247  -593.201073  -762.192398\n",
       "2    22.336550    16.774048   -13.317041\n",
       "3    21.501762    -1.118225   -25.061152"
      ]
     },
     "execution_count": 29,
     "metadata": {},
     "output_type": "execute_result"
    }
   ],
   "source": [
    "diff_centrelineMcmorrin = diff_centrelineMcmorrin.drop(diff_centrelineMcmorrin.columns[[0, 1, 2]], axis = 1)\n",
    "diff_centrelineMcmorrin = diff_centrelineMcmorrin.drop(diff_centrelineMcmorrin.index[0], axis = 0)\n",
    "McmorrinSTATS_df = diff_centrelineMcmorrin.melt()\n",
    "McmorrinSTATS_df.head()\n",
    "\n",
    "diff_centrelineMcmorrin"
   ]
  },
  {
   "cell_type": "code",
   "execution_count": 30,
   "id": "07d7ff15-e859-4b75-831f-a49cc8357a32",
   "metadata": {},
   "outputs": [
    {
     "data": {
      "image/png": "[encoded data removed]",
      "text/plain": [
       "<Figure size 432x288 with 1 Axes>"
      ]
     },
     "metadata": {},
     "output_type": "display_data"
    },
    {
     "data": {
      "text/plain": [
       "<Figure size 432x288 with 0 Axes>"
      ]
     },
     "metadata": {},
     "output_type": "display_data"
    }
   ],
   "source": [
    "sns.set_theme(style=\"whitegrid\")\n",
    "\n",
    "sns.boxplot(data = McmorrinSTATS_df, x = \"variable\", y = \"value\").set(xlabel = \"\", ylabel = \"Difference (m)\", title = \"McMorrin\")\n",
    "plt.xticks(rotation = 30, horizontalalignment = \"right\")\n",
    "\n",
    "# show the graph\n",
    "plt.show()\n",
    "# finalize the figure\n",
    "sns.despine(left = False, bottom = True)"
   ]
  },
  {
   "cell_type": "code",
   "execution_count": 31,
   "id": "511b4529-43b0-4b23-a946-3c5298015237",
   "metadata": {},
   "outputs": [
    {
     "data": {
      "text/html": [
       "<div>\n",
       "<style scoped>\n",
       "    .dataframe tbody tr th:only-of-type {\n",
       "        vertical-align: middle;\n",
       "    }\n",
       "\n",
       "    .dataframe tbody tr th {\n",
       "        vertical-align: top;\n",
       "    }\n",
       "\n",
       "    .dataframe thead th {\n",
       "        text-align: right;\n",
       "    }\n",
       "</style>\n",
       "<table border=\"1\" class=\"dataframe\">\n",
       "  <thead>\n",
       "    <tr style=\"text-align: right;\">\n",
       "      <th></th>\n",
       "      <th>centerline1</th>\n",
       "      <th>centerline2</th>\n",
       "      <th>centerline3</th>\n",
       "      <th>centerline4</th>\n",
       "    </tr>\n",
       "  </thead>\n",
       "  <tbody>\n",
       "    <tr>\n",
       "      <th>1</th>\n",
       "      <td>0.096527</td>\n",
       "      <td>13.322499</td>\n",
       "      <td>1.875533</td>\n",
       "      <td>-2.986741</td>\n",
       "    </tr>\n",
       "    <tr>\n",
       "      <th>2</th>\n",
       "      <td>-11.032865</td>\n",
       "      <td>-2115.895546</td>\n",
       "      <td>-2675.565479</td>\n",
       "      <td>-312.571468</td>\n",
       "    </tr>\n",
       "    <tr>\n",
       "      <th>3</th>\n",
       "      <td>10.652866</td>\n",
       "      <td>41.458317</td>\n",
       "      <td>28.864242</td>\n",
       "      <td>-1.646051</td>\n",
       "    </tr>\n",
       "  </tbody>\n",
       "</table>\n",
       "</div>"
      ],
      "text/plain": [
       "   centerline1  centerline2  centerline3  centerline4\n",
       "1     0.096527    13.322499     1.875533    -2.986741\n",
       "2   -11.032865 -2115.895546 -2675.565479  -312.571468\n",
       "3    10.652866    41.458317    28.864242    -1.646051"
      ]
     },
     "execution_count": 31,
     "metadata": {},
     "output_type": "execute_result"
    }
   ],
   "source": [
    "diff_centrelineNeny = diff_centrelineNeny.drop(diff_centrelineNeny.columns[[0, 1, 2]], axis = 1)\n",
    "diff_centrelineNeny = diff_centrelineNeny.drop(diff_centrelineNeny.index[0], axis = 0)\n",
    "NenySTATS_df = diff_centrelineNeny.melt()\n",
    "NenySTATS_df.head()\n",
    "\n",
    "diff_centrelineNeny"
   ]
  },
  {
   "cell_type": "code",
   "execution_count": 32,
   "id": "c9137d29-2b2d-4d7e-a1ce-9ee43ce47f0a",
   "metadata": {},
   "outputs": [
    {
     "data": {
      "image/png": "[encoded data removed]",
      "text/plain": [
       "<Figure size 432x288 with 1 Axes>"
      ]
     },
     "metadata": {},
     "output_type": "display_data"
    },
    {
     "data": {
      "text/plain": [
       "<Figure size 432x288 with 0 Axes>"
      ]
     },
     "metadata": {},
     "output_type": "display_data"
    }
   ],
   "source": [
    "sns.set_theme(style=\"whitegrid\")\n",
    "\n",
    "sns.boxplot(data = NenySTATS_df, x = \"variable\", y = \"value\").set(xlabel = \"\", ylabel = \"Difference (m)\", title = \"Neny\")\n",
    "plt.xticks(rotation = 30, horizontalalignment = \"right\")\n",
    "\n",
    "# show the graph\n",
    "plt.show()\n",
    "# finalize the figure\n",
    "sns.despine(left = False, bottom = True)"
   ]
  },
  {
   "cell_type": "markdown",
   "id": "f3d7d342-3608-48f8-81c8-ce6643711767",
   "metadata": {
    "tags": []
   },
   "source": [
    "## Plotting standard deviation"
   ]
  },
  {
   "cell_type": "code",
   "execution_count": 61,
   "id": "95843d8b-ff56-4f33-a3d0-664615e266c9",
   "metadata": {},
   "outputs": [
    {
     "data": {
      "text/html": [
       "<div>\n",
       "<style scoped>\n",
       "    .dataframe tbody tr th:only-of-type {\n",
       "        vertical-align: middle;\n",
       "    }\n",
       "\n",
       "    .dataframe tbody tr th {\n",
       "        vertical-align: top;\n",
       "    }\n",
       "\n",
       "    .dataframe thead th {\n",
       "        text-align: right;\n",
       "    }\n",
       "</style>\n",
       "<table border=\"1\" class=\"dataframe\">\n",
       "  <thead>\n",
       "    <tr style=\"text-align: right;\">\n",
       "      <th></th>\n",
       "      <th>centerline1</th>\n",
       "      <th>centerline2</th>\n",
       "      <th>centerline3</th>\n",
       "      <th>centerline4</th>\n",
       "      <th>centerline5</th>\n",
       "      <th>centerline6</th>\n",
       "      <th>centerline7</th>\n",
       "      <th>centerline8</th>\n",
       "      <th>centerline9</th>\n",
       "      <th>centerline10</th>\n",
       "      <th>centerline11</th>\n",
       "      <th>centerline12</th>\n",
       "      <th>centerline13</th>\n",
       "      <th>centerline14</th>\n",
       "      <th>centerline15</th>\n",
       "      <th>centerline16</th>\n",
       "      <th>centerline17</th>\n",
       "    </tr>\n",
       "  </thead>\n",
       "  <tbody>\n",
       "    <tr>\n",
       "      <th>count</th>\n",
       "      <td>2.000000</td>\n",
       "      <td>2.000000</td>\n",
       "      <td>2.000000</td>\n",
       "      <td>2.000000</td>\n",
       "      <td>2.000000</td>\n",
       "      <td>2.000000</td>\n",
       "      <td>2.000000</td>\n",
       "      <td>2.000000</td>\n",
       "      <td>2.000000</td>\n",
       "      <td>2.000000</td>\n",
       "      <td>2.000000</td>\n",
       "      <td>2.000000</td>\n",
       "      <td>2.000000</td>\n",
       "      <td>2.000000</td>\n",
       "      <td>2.000000</td>\n",
       "      <td>2.000000</td>\n",
       "      <td>2.000000</td>\n",
       "    </tr>\n",
       "    <tr>\n",
       "      <th>mean</th>\n",
       "      <td>184.283603</td>\n",
       "      <td>-30.906993</td>\n",
       "      <td>26.224314</td>\n",
       "      <td>-124.478051</td>\n",
       "      <td>-106.939524</td>\n",
       "      <td>17.357588</td>\n",
       "      <td>-1490.339617</td>\n",
       "      <td>-2286.045809</td>\n",
       "      <td>-2265.580505</td>\n",
       "      <td>-595.269480</td>\n",
       "      <td>142.063479</td>\n",
       "      <td>54.649970</td>\n",
       "      <td>145.227847</td>\n",
       "      <td>129.721837</td>\n",
       "      <td>134.061289</td>\n",
       "      <td>-434.978111</td>\n",
       "      <td>-7729.424147</td>\n",
       "    </tr>\n",
       "    <tr>\n",
       "      <th>std</th>\n",
       "      <td>102.080909</td>\n",
       "      <td>63.798242</td>\n",
       "      <td>115.729118</td>\n",
       "      <td>107.634287</td>\n",
       "      <td>43.530651</td>\n",
       "      <td>58.462976</td>\n",
       "      <td>35.483879</td>\n",
       "      <td>101.631967</td>\n",
       "      <td>69.305739</td>\n",
       "      <td>26.493174</td>\n",
       "      <td>51.128896</td>\n",
       "      <td>71.188238</td>\n",
       "      <td>79.265888</td>\n",
       "      <td>76.310037</td>\n",
       "      <td>47.060516</td>\n",
       "      <td>19.022095</td>\n",
       "      <td>17.310751</td>\n",
       "    </tr>\n",
       "    <tr>\n",
       "      <th>min</th>\n",
       "      <td>112.101500</td>\n",
       "      <td>-76.019163</td>\n",
       "      <td>-55.608530</td>\n",
       "      <td>-200.586986</td>\n",
       "      <td>-137.720343</td>\n",
       "      <td>-23.981978</td>\n",
       "      <td>-1515.430509</td>\n",
       "      <td>-2357.910462</td>\n",
       "      <td>-2314.587064</td>\n",
       "      <td>-614.002983</td>\n",
       "      <td>105.909890</td>\n",
       "      <td>4.312284</td>\n",
       "      <td>89.178400</td>\n",
       "      <td>75.762492</td>\n",
       "      <td>100.784479</td>\n",
       "      <td>-448.428764</td>\n",
       "      <td>-7741.664697</td>\n",
       "    </tr>\n",
       "    <tr>\n",
       "      <th>25%</th>\n",
       "      <td>148.192551</td>\n",
       "      <td>-53.463078</td>\n",
       "      <td>-14.692108</td>\n",
       "      <td>-162.532518</td>\n",
       "      <td>-122.329934</td>\n",
       "      <td>-3.312195</td>\n",
       "      <td>-1502.885063</td>\n",
       "      <td>-2321.978136</td>\n",
       "      <td>-2290.083784</td>\n",
       "      <td>-604.636231</td>\n",
       "      <td>123.986685</td>\n",
       "      <td>29.481127</td>\n",
       "      <td>117.203123</td>\n",
       "      <td>102.742164</td>\n",
       "      <td>117.422884</td>\n",
       "      <td>-441.703437</td>\n",
       "      <td>-7735.544422</td>\n",
       "    </tr>\n",
       "    <tr>\n",
       "      <th>50%</th>\n",
       "      <td>184.283603</td>\n",
       "      <td>-30.906993</td>\n",
       "      <td>26.224314</td>\n",
       "      <td>-124.478051</td>\n",
       "      <td>-106.939524</td>\n",
       "      <td>17.357588</td>\n",
       "      <td>-1490.339617</td>\n",
       "      <td>-2286.045809</td>\n",
       "      <td>-2265.580505</td>\n",
       "      <td>-595.269480</td>\n",
       "      <td>142.063479</td>\n",
       "      <td>54.649970</td>\n",
       "      <td>145.227847</td>\n",
       "      <td>129.721837</td>\n",
       "      <td>134.061289</td>\n",
       "      <td>-434.978111</td>\n",
       "      <td>-7729.424147</td>\n",
       "    </tr>\n",
       "    <tr>\n",
       "      <th>75%</th>\n",
       "      <td>220.374654</td>\n",
       "      <td>-8.350909</td>\n",
       "      <td>67.140736</td>\n",
       "      <td>-86.423584</td>\n",
       "      <td>-91.549115</td>\n",
       "      <td>38.027371</td>\n",
       "      <td>-1477.794171</td>\n",
       "      <td>-2250.113483</td>\n",
       "      <td>-2241.077226</td>\n",
       "      <td>-585.902728</td>\n",
       "      <td>160.140274</td>\n",
       "      <td>79.818812</td>\n",
       "      <td>173.252570</td>\n",
       "      <td>156.701509</td>\n",
       "      <td>150.699694</td>\n",
       "      <td>-428.252785</td>\n",
       "      <td>-7723.303872</td>\n",
       "    </tr>\n",
       "    <tr>\n",
       "      <th>max</th>\n",
       "      <td>256.465706</td>\n",
       "      <td>14.205176</td>\n",
       "      <td>108.057159</td>\n",
       "      <td>-48.369117</td>\n",
       "      <td>-76.158706</td>\n",
       "      <td>58.697155</td>\n",
       "      <td>-1465.248725</td>\n",
       "      <td>-2214.181156</td>\n",
       "      <td>-2216.573947</td>\n",
       "      <td>-576.535977</td>\n",
       "      <td>178.217068</td>\n",
       "      <td>104.987655</td>\n",
       "      <td>201.277294</td>\n",
       "      <td>183.681181</td>\n",
       "      <td>167.338099</td>\n",
       "      <td>-421.527459</td>\n",
       "      <td>-7717.183598</td>\n",
       "    </tr>\n",
       "  </tbody>\n",
       "</table>\n",
       "</div>"
      ],
      "text/plain": [
       "       centerline1  centerline2  centerline3  centerline4  centerline5  \\\n",
       "count     2.000000     2.000000     2.000000     2.000000     2.000000   \n",
       "mean    184.283603   -30.906993    26.224314  -124.478051  -106.939524   \n",
       "std     102.080909    63.798242   115.729118   107.634287    43.530651   \n",
       "min     112.101500   -76.019163   -55.608530  -200.586986  -137.720343   \n",
       "25%     148.192551   -53.463078   -14.692108  -162.532518  -122.329934   \n",
       "50%     184.283603   -30.906993    26.224314  -124.478051  -106.939524   \n",
       "75%     220.374654    -8.350909    67.140736   -86.423584   -91.549115   \n",
       "max     256.465706    14.205176   108.057159   -48.369117   -76.158706   \n",
       "\n",
       "       centerline6  centerline7  centerline8  centerline9  centerline10  \\\n",
       "count     2.000000     2.000000     2.000000     2.000000      2.000000   \n",
       "mean     17.357588 -1490.339617 -2286.045809 -2265.580505   -595.269480   \n",
       "std      58.462976    35.483879   101.631967    69.305739     26.493174   \n",
       "min     -23.981978 -1515.430509 -2357.910462 -2314.587064   -614.002983   \n",
       "25%      -3.312195 -1502.885063 -2321.978136 -2290.083784   -604.636231   \n",
       "50%      17.357588 -1490.339617 -2286.045809 -2265.580505   -595.269480   \n",
       "75%      38.027371 -1477.794171 -2250.113483 -2241.077226   -585.902728   \n",
       "max      58.697155 -1465.248725 -2214.181156 -2216.573947   -576.535977   \n",
       "\n",
       "       centerline11  centerline12  centerline13  centerline14  centerline15  \\\n",
       "count      2.000000      2.000000      2.000000      2.000000      2.000000   \n",
       "mean     142.063479     54.649970    145.227847    129.721837    134.061289   \n",
       "std       51.128896     71.188238     79.265888     76.310037     47.060516   \n",
       "min      105.909890      4.312284     89.178400     75.762492    100.784479   \n",
       "25%      123.986685     29.481127    117.203123    102.742164    117.422884   \n",
       "50%      142.063479     54.649970    145.227847    129.721837    134.061289   \n",
       "75%      160.140274     79.818812    173.252570    156.701509    150.699694   \n",
       "max      178.217068    104.987655    201.277294    183.681181    167.338099   \n",
       "\n",
       "       centerline16  centerline17  \n",
       "count      2.000000      2.000000  \n",
       "mean    -434.978111  -7729.424147  \n",
       "std       19.022095     17.310751  \n",
       "min     -448.428764  -7741.664697  \n",
       "25%     -441.703437  -7735.544422  \n",
       "50%     -434.978111  -7729.424147  \n",
       "75%     -428.252785  -7723.303872  \n",
       "max     -421.527459  -7717.183598  "
      ]
     },
     "execution_count": 61,
     "metadata": {},
     "output_type": "execute_result"
    }
   ],
   "source": [
    "diff_centrelineGetz.describe()"
   ]
  },
  {
   "cell_type": "code",
   "execution_count": 128,
   "id": "412503a4-e9c2-48be-a565-35272b0a371d",
   "metadata": {},
   "outputs": [
    {
     "data": {
      "image/png": "[encoded data removed]",
      "text/plain": [
       "<Figure size 432x288 with 1 Axes>"
      ]
     },
     "metadata": {},
     "output_type": "display_data"
    }
   ],
   "source": [
    "import numpy as np\n",
    "\n",
    "sns.scatterplot(data = np.log10(diff_centrelineGetz.describe().iloc[2, :]), marker = \"o\", legend = \"full\")\n",
    "sns.scatterplot(data = np.log10(diff_centrelineThwaites.describe().iloc[2, :]), marker = \"x\", legend = \"full\")\n",
    "plt.xticks(rotation = 30, horizontalalignment = \"right\")\n",
    "plt.ylabel(\"std (log10)\")\n",
    "plt.yscale(\"log\", base = 10)\n",
    "plt.legend(labels = [\"Getz\", \"Thwaites\"], loc = 2, bbox_to_anchor = (1,1))\n",
    "plt.title(\"SAR\")\n",
    "\n",
    "# show the graph\n",
    "plt.show()"
   ]
  },
  {
   "cell_type": "code",
   "execution_count": 129,
   "id": "feab607e-6772-4099-b5b5-5c4375105f6d",
   "metadata": {},
   "outputs": [
    {
     "data": {
      "image/png": "[encoded data removed]",
      "text/plain": [
       "<Figure size 432x288 with 1 Axes>"
      ]
     },
     "metadata": {},
     "output_type": "display_data"
    }
   ],
   "source": [
    "sns.scatterplot(data = np.log10(diff_centrelineForbes.describe().iloc[2, :]), marker = \"o\")\n",
    "sns.scatterplot(data = np.log10(diff_centrelineNeny.describe().iloc[2, :]), marker = \"x\")\n",
    "sns.scatterplot(data = np.log10(diff_centrelineMardovol.describe().iloc[2, :]), marker = \"d\")\n",
    "sns.scatterplot(data = np.log10(diff_centrelineMcmorrin.describe().iloc[2, :]), marker = \"*\")\n",
    "plt.xticks(rotation = 30, horizontalalignment = \"right\")\n",
    "plt.ylabel(\"std (log10)\")\n",
    "plt.yscale(\"log\", base = 10)\n",
    "plt.legend(labels = [\"Forbes\", \"Neny\", \"Mardovol\", \"McMorrin\"], loc = 2, bbox_to_anchor = (1,1))\n",
    "plt.title(\"Optical\")\n",
    "\n",
    "# show the graph\n",
    "plt.show()"
   ]
  }
 ],
 "metadata": {
  "kernelspec": {
   "display_name": "Python 3 (ipykernel)",
   "language": "python",
   "name": "python3"
  },
  "language_info": {
   "codemirror_mode": {
    "name": "ipython",
    "version": 3
   },
   "file_extension": ".py",
   "mimetype": "text/x-python",
   "name": "python",
   "nbconvert_exporter": "python",
   "pygments_lexer": "ipython3",
   "version": "3.10.4"
  }
 },
 "nbformat": 4,
 "nbformat_minor": 5
}
